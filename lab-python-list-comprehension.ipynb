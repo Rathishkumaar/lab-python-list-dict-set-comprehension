{
 "cells": [
  {
   "cell_type": "markdown",
   "id": "25d7736c-ba17-4aff-b6bb-66eba20fbf4e",
   "metadata": {},
   "source": [
    "# Lab | List, Dict and Set Comprehension"
   ]
  },
  {
   "cell_type": "markdown",
   "id": "7dd3cbde-675a-4b81-92c3-f728846dbe06",
   "metadata": {},
   "source": [
    "## Exercise: Managing Customer Orders Optimized with Comprehension"
   ]
  },
  {
   "cell_type": "markdown",
   "id": "5d500160-2fb7-4777-b5e4-09d45ebaf328",
   "metadata": {},
   "source": [
    "In the previous exercise, you developed a program to manage customer orders and inventory. Now, let's take it a step further and incorporate comprehension into your code.\n",
    "\n",
    "Follow the steps below to complete the exercise:\n",
    "\n",
    "1. Review your code from the previous exercise and identify areas where you can apply comprehension to simplify and streamline your code. \n",
    "\n",
    "    - *Hint: Apply it to initialize inventory, updating the inventory and printing the updated inventory.*\n",
    "    \n",
    "    - For example, in initializing the inventory, we could have:\n",
    "    \n",
    "        ```python\n",
    "        def initialize_inventory(products):\n",
    "            inventory = {product: int(input(f\"Enter the quantity of {product}s available: \")) for product in products}\n",
    "            return inventory\n",
    "\n",
    "        ```\n",
    "<br>\n",
    "    \n",
    "    \n",
    "2. Modify the function get_customer_orders so it prompts the user to enter the number of customer orders and gathers the product names using a loop and user input. Use comprehension.\n",
    "\n",
    "3. Add a new function to calculate the total price of the customer order. For each product in customer_orders, prompt the user to enter the price of that product. Use comprehension to calculate the total price. Note: assume that the user can only have 1 unit of each product.\n",
    "\n",
    "4. Modify the update_inventory function to remove the product from the inventory if its quantity becomes zero after fulfilling the customer orders. Use comprehension to filter out the products with a quantity of zero from the inventory.\n",
    "\n",
    "5. Print the total price of the customer order.\n",
    "\n",
    "Your code should produce output similar to the following:\n",
    "\n",
    "```python\n",
    "Enter the quantity of t-shirts available:  5\n",
    "Enter the quantity of mugs available:  4\n",
    "Enter the quantity of hats available:  3\n",
    "Enter the quantity of books available:  2\n",
    "Enter the quantity of keychains available:  1\n",
    "Enter the number of customer orders:  2\n",
    "Enter the name of a product that a customer wants to order:  hat\n",
    "Enter the name of a product that a customer wants to order:  keychain\n",
    "\n",
    "Order Statistics:\n",
    "Total Products Ordered: 2\n",
    "Percentage of Unique Products Ordered: 40.0\n",
    "\n",
    "Updated Inventory:\n",
    "t-shirt: 5\n",
    "mug: 4\n",
    "hat: 2\n",
    "book: 2\n",
    "Enter the price of keychain:  5\n",
    "Enter the price of hat:  10\n",
    "Total Price: 15.0\n",
    "\n",
    "```\n"
   ]
  },
  {
   "cell_type": "code",
   "execution_count": 5,
   "id": "04729488-c1c0-46e8-ae52-4a997829ce5f",
   "metadata": {},
   "outputs": [
    {
     "name": "stdin",
     "output_type": "stream",
     "text": [
      "Enter the quantity of t-shirt:  5\n",
      "Enter the quantity of mug:  4\n",
      "Enter the quantity of hat:  3\n",
      "Enter the quantity of book:  2\n",
      "Enter the quantity of keychain:  1\n"
     ]
    },
    {
     "name": "stdout",
     "output_type": "stream",
     "text": [
      "{'t-shirt': 5, 'mug': 4, 'hat': 3, 'book': 2, 'keychain': 1}\n"
     ]
    }
   ],
   "source": [
    "# Review your code from the previous exercise and identify areas where you can apply comprehension to simplify and streamline your code.\n",
    "\n",
    "products =[\"t-shirt\", \"mug\", \"hat\", \"book\", \"keychain\"]\n",
    "def initialize_inventory(products):\n",
    "    inventory = {product: int(input(f\"Enter the quantity of {product}: \")) for product in products}\n",
    "    return inventory\n",
    "\n",
    "inventory = initialize_inventory(products)\n",
    "print(inventory)"
   ]
  },
  {
   "cell_type": "code",
   "execution_count": 62,
   "id": "2d4f60ac-2509-488d-b900-ecf711733fab",
   "metadata": {},
   "outputs": [],
   "source": [
    "# Modify the function get_customer_orders so it prompts the user to enter the number of customer orders\n",
    "# and gathers the product names using a loop and user input. Use comprehension.\n",
    "\n",
    "    \n",
    "def get_customer_orders():\n",
    "\n",
    "    #customer_orders = set()\n",
    "    num_orders = int(input(\"Enter the number of customer orders: \"))\n",
    "\n",
    "    products_names_from_customer = {input(f\"Enter the name of the  product: \") for j in range(num_orders)}\n",
    "\n",
    "    customer_orders = set(products_names_from_customer)\n",
    "\n",
    "    return print(customer_orders)"
   ]
  },
  {
   "cell_type": "code",
   "execution_count": 63,
   "id": "e526132b-65ab-45a7-8f9f-43ca095fb3f5",
   "metadata": {},
   "outputs": [
    {
     "name": "stdin",
     "output_type": "stream",
     "text": [
      "Enter the number of customer orders:  2\n",
      "Enter the name of the  product:  hat\n",
      "Enter the name of the  product:  book\n"
     ]
    },
    {
     "name": "stdout",
     "output_type": "stream",
     "text": [
      "{'hat', 'book'}\n"
     ]
    }
   ],
   "source": [
    "get_customer_orders()"
   ]
  },
  {
   "cell_type": "code",
   "execution_count": 87,
   "id": "79678272-9940-40d7-8a0c-323eb1b9c635",
   "metadata": {},
   "outputs": [],
   "source": [
    "# Add a new function to calculate the total price of the customer order. For each product in customer_orders, prompt the user to enter the price of that\n",
    "# product. Use comprehension to calculate the total price. Note: assume that the user can only have 1 unit of each product.\n",
    "#customer_orders = {'hat', 'book'}\n",
    "\n",
    "\n",
    "def calculate_total_price(customer_order):\n",
    "\n",
    "   \n",
    "    price_of_the_product = sum(float(input(f\"Enter the price of the {order}: \")) for order in customer_orders)\n",
    "\n",
    "    return price_of_the_product"
   ]
  },
  {
   "cell_type": "code",
   "execution_count": 88,
   "id": "4af90318-4070-48d7-89d9-647cd750f69a",
   "metadata": {},
   "outputs": [
    {
     "name": "stdin",
     "output_type": "stream",
     "text": [
      "Enter the price of the hat:  3\n",
      "Enter the price of the book:  4\n"
     ]
    },
    {
     "data": {
      "text/plain": [
       "7.0"
      ]
     },
     "execution_count": 88,
     "metadata": {},
     "output_type": "execute_result"
    }
   ],
   "source": [
    "calculate_total_price(customer_orders)"
   ]
  },
  {
   "cell_type": "code",
   "execution_count": 98,
   "id": "87a4293b-973d-44b8-a53a-9b96b95c988e",
   "metadata": {},
   "outputs": [],
   "source": [
    "def calculate_total_price(customer_orders):\n",
    "\n",
    "   \n",
    "    price_of_the_product = sum( float(input(f\"Enter the price of the {order}: \")) for order in customer_orders)\n",
    "\n",
    "    return price_of_the_product"
   ]
  },
  {
   "cell_type": "code",
   "execution_count": 99,
   "id": "97e612c7-2438-4e55-982a-55c2da73d362",
   "metadata": {},
   "outputs": [
    {
     "name": "stdin",
     "output_type": "stream",
     "text": [
      "Enter the price of the hat:  3\n",
      "Enter the price of the book:  4\n"
     ]
    },
    {
     "data": {
      "text/plain": [
       "7.0"
      ]
     },
     "execution_count": 99,
     "metadata": {},
     "output_type": "execute_result"
    }
   ],
   "source": [
    "calculate_total_price(customer_orders)"
   ]
  },
  {
   "cell_type": "code",
   "execution_count": null,
   "id": "58a792a3-9782-4fcf-bdda-fd36de618751",
   "metadata": {},
   "outputs": [],
   "source": [
    "# Modify the update_inventory function to remove the product from the inventory if its quantity becomes zero after fulfilling the customer orders. \n",
    "# Use comprehension to filter out the products with a quantity of zero from the inventory.\n",
    "\n",
    "\n",
    "inventory = {product: quantity for product, quantity in inventory.items() if quantity > 0}\n",
    "    \n",
    "    return inventory\n"
   ]
  }
 ],
 "metadata": {
  "kernelspec": {
   "display_name": "Python 3 (ipykernel)",
   "language": "python",
   "name": "python3"
  },
  "language_info": {
   "codemirror_mode": {
    "name": "ipython",
    "version": 3
   },
   "file_extension": ".py",
   "mimetype": "text/x-python",
   "name": "python",
   "nbconvert_exporter": "python",
   "pygments_lexer": "ipython3",
   "version": "3.11.7"
  }
 },
 "nbformat": 4,
 "nbformat_minor": 5
}
